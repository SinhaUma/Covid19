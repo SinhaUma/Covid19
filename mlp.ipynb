{
  "nbformat": 4,
  "nbformat_minor": 0,
  "metadata": {
    "colab": {
      "provenance": [],
      "authorship_tag": "ABX9TyORFoTBdI76V6rIFPUet0MG",
      "include_colab_link": true
    },
    "kernelspec": {
      "name": "python3",
      "display_name": "Python 3"
    },
    "language_info": {
      "name": "python"
    }
  },
  "cells": [
    {
      "cell_type": "markdown",
      "metadata": {
        "id": "view-in-github",
        "colab_type": "text"
      },
      "source": [
        "<a href=\"https://colab.research.google.com/github/SinhaUma/Covid19/blob/master/mlp.ipynb\" target=\"_parent\"><img src=\"https://colab.research.google.com/assets/colab-badge.svg\" alt=\"Open In Colab\"/></a>"
      ]
    },
    {
      "cell_type": "code",
      "execution_count": 2,
      "metadata": {
        "id": "cf-Dv4xH_N2t"
      },
      "outputs": [],
      "source": [
        "import tensorflow as tf"
      ]
    },
    {
      "cell_type": "code",
      "source": [
        "import pandas as pd\n",
        "data = pd.read_csv(r'/content/wine.data', names=['A','B','C','D','E','F','G','H','I','J','K','L','M','N'])"
      ],
      "metadata": {
        "id": "jVhHbutk_Wy-"
      },
      "execution_count": 4,
      "outputs": []
    },
    {
      "cell_type": "code",
      "source": [
        "data"
      ],
      "metadata": {
        "colab": {
          "base_uri": "https://localhost:8080/",
          "height": 423
        },
        "id": "nDT0YRsg_W4j",
        "outputId": "373e857b-eb45-4fd0-8e5a-f1bd5f00d5e0"
      },
      "execution_count": 5,
      "outputs": [
        {
          "output_type": "execute_result",
          "data": {
            "text/plain": [
              "     A      B     C     D     E    F     G     H     I     J      K     L  \\\n",
              "0    1  14.23  1.71  2.43  15.6  127  2.80  3.06  0.28  2.29   5.64  1.04   \n",
              "1    1  13.20  1.78  2.14  11.2  100  2.65  2.76  0.26  1.28   4.38  1.05   \n",
              "2    1  13.16  2.36  2.67  18.6  101  2.80  3.24  0.30  2.81   5.68  1.03   \n",
              "3    1  14.37  1.95  2.50  16.8  113  3.85  3.49  0.24  2.18   7.80  0.86   \n",
              "4    1  13.24  2.59  2.87  21.0  118  2.80  2.69  0.39  1.82   4.32  1.04   \n",
              "..  ..    ...   ...   ...   ...  ...   ...   ...   ...   ...    ...   ...   \n",
              "173  3  13.71  5.65  2.45  20.5   95  1.68  0.61  0.52  1.06   7.70  0.64   \n",
              "174  3  13.40  3.91  2.48  23.0  102  1.80  0.75  0.43  1.41   7.30  0.70   \n",
              "175  3  13.27  4.28  2.26  20.0  120  1.59  0.69  0.43  1.35  10.20  0.59   \n",
              "176  3  13.17  2.59  2.37  20.0  120  1.65  0.68  0.53  1.46   9.30  0.60   \n",
              "177  3  14.13  4.10  2.74  24.5   96  2.05  0.76  0.56  1.35   9.20  0.61   \n",
              "\n",
              "        M     N  \n",
              "0    3.92  1065  \n",
              "1    3.40  1050  \n",
              "2    3.17  1185  \n",
              "3    3.45  1480  \n",
              "4    2.93   735  \n",
              "..    ...   ...  \n",
              "173  1.74   740  \n",
              "174  1.56   750  \n",
              "175  1.56   835  \n",
              "176  1.62   840  \n",
              "177  1.60   560  \n",
              "\n",
              "[178 rows x 14 columns]"
            ],
            "text/html": [
              "\n",
              "  <div id=\"df-fa0cfa03-cb25-44da-a1fe-384097c92bdb\" class=\"colab-df-container\">\n",
              "    <div>\n",
              "<style scoped>\n",
              "    .dataframe tbody tr th:only-of-type {\n",
              "        vertical-align: middle;\n",
              "    }\n",
              "\n",
              "    .dataframe tbody tr th {\n",
              "        vertical-align: top;\n",
              "    }\n",
              "\n",
              "    .dataframe thead th {\n",
              "        text-align: right;\n",
              "    }\n",
              "</style>\n",
              "<table border=\"1\" class=\"dataframe\">\n",
              "  <thead>\n",
              "    <tr style=\"text-align: right;\">\n",
              "      <th></th>\n",
              "      <th>A</th>\n",
              "      <th>B</th>\n",
              "      <th>C</th>\n",
              "      <th>D</th>\n",
              "      <th>E</th>\n",
              "      <th>F</th>\n",
              "      <th>G</th>\n",
              "      <th>H</th>\n",
              "      <th>I</th>\n",
              "      <th>J</th>\n",
              "      <th>K</th>\n",
              "      <th>L</th>\n",
              "      <th>M</th>\n",
              "      <th>N</th>\n",
              "    </tr>\n",
              "  </thead>\n",
              "  <tbody>\n",
              "    <tr>\n",
              "      <th>0</th>\n",
              "      <td>1</td>\n",
              "      <td>14.23</td>\n",
              "      <td>1.71</td>\n",
              "      <td>2.43</td>\n",
              "      <td>15.6</td>\n",
              "      <td>127</td>\n",
              "      <td>2.80</td>\n",
              "      <td>3.06</td>\n",
              "      <td>0.28</td>\n",
              "      <td>2.29</td>\n",
              "      <td>5.64</td>\n",
              "      <td>1.04</td>\n",
              "      <td>3.92</td>\n",
              "      <td>1065</td>\n",
              "    </tr>\n",
              "    <tr>\n",
              "      <th>1</th>\n",
              "      <td>1</td>\n",
              "      <td>13.20</td>\n",
              "      <td>1.78</td>\n",
              "      <td>2.14</td>\n",
              "      <td>11.2</td>\n",
              "      <td>100</td>\n",
              "      <td>2.65</td>\n",
              "      <td>2.76</td>\n",
              "      <td>0.26</td>\n",
              "      <td>1.28</td>\n",
              "      <td>4.38</td>\n",
              "      <td>1.05</td>\n",
              "      <td>3.40</td>\n",
              "      <td>1050</td>\n",
              "    </tr>\n",
              "    <tr>\n",
              "      <th>2</th>\n",
              "      <td>1</td>\n",
              "      <td>13.16</td>\n",
              "      <td>2.36</td>\n",
              "      <td>2.67</td>\n",
              "      <td>18.6</td>\n",
              "      <td>101</td>\n",
              "      <td>2.80</td>\n",
              "      <td>3.24</td>\n",
              "      <td>0.30</td>\n",
              "      <td>2.81</td>\n",
              "      <td>5.68</td>\n",
              "      <td>1.03</td>\n",
              "      <td>3.17</td>\n",
              "      <td>1185</td>\n",
              "    </tr>\n",
              "    <tr>\n",
              "      <th>3</th>\n",
              "      <td>1</td>\n",
              "      <td>14.37</td>\n",
              "      <td>1.95</td>\n",
              "      <td>2.50</td>\n",
              "      <td>16.8</td>\n",
              "      <td>113</td>\n",
              "      <td>3.85</td>\n",
              "      <td>3.49</td>\n",
              "      <td>0.24</td>\n",
              "      <td>2.18</td>\n",
              "      <td>7.80</td>\n",
              "      <td>0.86</td>\n",
              "      <td>3.45</td>\n",
              "      <td>1480</td>\n",
              "    </tr>\n",
              "    <tr>\n",
              "      <th>4</th>\n",
              "      <td>1</td>\n",
              "      <td>13.24</td>\n",
              "      <td>2.59</td>\n",
              "      <td>2.87</td>\n",
              "      <td>21.0</td>\n",
              "      <td>118</td>\n",
              "      <td>2.80</td>\n",
              "      <td>2.69</td>\n",
              "      <td>0.39</td>\n",
              "      <td>1.82</td>\n",
              "      <td>4.32</td>\n",
              "      <td>1.04</td>\n",
              "      <td>2.93</td>\n",
              "      <td>735</td>\n",
              "    </tr>\n",
              "    <tr>\n",
              "      <th>...</th>\n",
              "      <td>...</td>\n",
              "      <td>...</td>\n",
              "      <td>...</td>\n",
              "      <td>...</td>\n",
              "      <td>...</td>\n",
              "      <td>...</td>\n",
              "      <td>...</td>\n",
              "      <td>...</td>\n",
              "      <td>...</td>\n",
              "      <td>...</td>\n",
              "      <td>...</td>\n",
              "      <td>...</td>\n",
              "      <td>...</td>\n",
              "      <td>...</td>\n",
              "    </tr>\n",
              "    <tr>\n",
              "      <th>173</th>\n",
              "      <td>3</td>\n",
              "      <td>13.71</td>\n",
              "      <td>5.65</td>\n",
              "      <td>2.45</td>\n",
              "      <td>20.5</td>\n",
              "      <td>95</td>\n",
              "      <td>1.68</td>\n",
              "      <td>0.61</td>\n",
              "      <td>0.52</td>\n",
              "      <td>1.06</td>\n",
              "      <td>7.70</td>\n",
              "      <td>0.64</td>\n",
              "      <td>1.74</td>\n",
              "      <td>740</td>\n",
              "    </tr>\n",
              "    <tr>\n",
              "      <th>174</th>\n",
              "      <td>3</td>\n",
              "      <td>13.40</td>\n",
              "      <td>3.91</td>\n",
              "      <td>2.48</td>\n",
              "      <td>23.0</td>\n",
              "      <td>102</td>\n",
              "      <td>1.80</td>\n",
              "      <td>0.75</td>\n",
              "      <td>0.43</td>\n",
              "      <td>1.41</td>\n",
              "      <td>7.30</td>\n",
              "      <td>0.70</td>\n",
              "      <td>1.56</td>\n",
              "      <td>750</td>\n",
              "    </tr>\n",
              "    <tr>\n",
              "      <th>175</th>\n",
              "      <td>3</td>\n",
              "      <td>13.27</td>\n",
              "      <td>4.28</td>\n",
              "      <td>2.26</td>\n",
              "      <td>20.0</td>\n",
              "      <td>120</td>\n",
              "      <td>1.59</td>\n",
              "      <td>0.69</td>\n",
              "      <td>0.43</td>\n",
              "      <td>1.35</td>\n",
              "      <td>10.20</td>\n",
              "      <td>0.59</td>\n",
              "      <td>1.56</td>\n",
              "      <td>835</td>\n",
              "    </tr>\n",
              "    <tr>\n",
              "      <th>176</th>\n",
              "      <td>3</td>\n",
              "      <td>13.17</td>\n",
              "      <td>2.59</td>\n",
              "      <td>2.37</td>\n",
              "      <td>20.0</td>\n",
              "      <td>120</td>\n",
              "      <td>1.65</td>\n",
              "      <td>0.68</td>\n",
              "      <td>0.53</td>\n",
              "      <td>1.46</td>\n",
              "      <td>9.30</td>\n",
              "      <td>0.60</td>\n",
              "      <td>1.62</td>\n",
              "      <td>840</td>\n",
              "    </tr>\n",
              "    <tr>\n",
              "      <th>177</th>\n",
              "      <td>3</td>\n",
              "      <td>14.13</td>\n",
              "      <td>4.10</td>\n",
              "      <td>2.74</td>\n",
              "      <td>24.5</td>\n",
              "      <td>96</td>\n",
              "      <td>2.05</td>\n",
              "      <td>0.76</td>\n",
              "      <td>0.56</td>\n",
              "      <td>1.35</td>\n",
              "      <td>9.20</td>\n",
              "      <td>0.61</td>\n",
              "      <td>1.60</td>\n",
              "      <td>560</td>\n",
              "    </tr>\n",
              "  </tbody>\n",
              "</table>\n",
              "<p>178 rows × 14 columns</p>\n",
              "</div>\n",
              "    <div class=\"colab-df-buttons\">\n",
              "\n",
              "  <div class=\"colab-df-container\">\n",
              "    <button class=\"colab-df-convert\" onclick=\"convertToInteractive('df-fa0cfa03-cb25-44da-a1fe-384097c92bdb')\"\n",
              "            title=\"Convert this dataframe to an interactive table.\"\n",
              "            style=\"display:none;\">\n",
              "\n",
              "  <svg xmlns=\"http://www.w3.org/2000/svg\" height=\"24px\" viewBox=\"0 -960 960 960\">\n",
              "    <path d=\"M120-120v-720h720v720H120Zm60-500h600v-160H180v160Zm220 220h160v-160H400v160Zm0 220h160v-160H400v160ZM180-400h160v-160H180v160Zm440 0h160v-160H620v160ZM180-180h160v-160H180v160Zm440 0h160v-160H620v160Z\"/>\n",
              "  </svg>\n",
              "    </button>\n",
              "\n",
              "  <style>\n",
              "    .colab-df-container {\n",
              "      display:flex;\n",
              "      gap: 12px;\n",
              "    }\n",
              "\n",
              "    .colab-df-convert {\n",
              "      background-color: #E8F0FE;\n",
              "      border: none;\n",
              "      border-radius: 50%;\n",
              "      cursor: pointer;\n",
              "      display: none;\n",
              "      fill: #1967D2;\n",
              "      height: 32px;\n",
              "      padding: 0 0 0 0;\n",
              "      width: 32px;\n",
              "    }\n",
              "\n",
              "    .colab-df-convert:hover {\n",
              "      background-color: #E2EBFA;\n",
              "      box-shadow: 0px 1px 2px rgba(60, 64, 67, 0.3), 0px 1px 3px 1px rgba(60, 64, 67, 0.15);\n",
              "      fill: #174EA6;\n",
              "    }\n",
              "\n",
              "    .colab-df-buttons div {\n",
              "      margin-bottom: 4px;\n",
              "    }\n",
              "\n",
              "    [theme=dark] .colab-df-convert {\n",
              "      background-color: #3B4455;\n",
              "      fill: #D2E3FC;\n",
              "    }\n",
              "\n",
              "    [theme=dark] .colab-df-convert:hover {\n",
              "      background-color: #434B5C;\n",
              "      box-shadow: 0px 1px 3px 1px rgba(0, 0, 0, 0.15);\n",
              "      filter: drop-shadow(0px 1px 2px rgba(0, 0, 0, 0.3));\n",
              "      fill: #FFFFFF;\n",
              "    }\n",
              "  </style>\n",
              "\n",
              "    <script>\n",
              "      const buttonEl =\n",
              "        document.querySelector('#df-fa0cfa03-cb25-44da-a1fe-384097c92bdb button.colab-df-convert');\n",
              "      buttonEl.style.display =\n",
              "        google.colab.kernel.accessAllowed ? 'block' : 'none';\n",
              "\n",
              "      async function convertToInteractive(key) {\n",
              "        const element = document.querySelector('#df-fa0cfa03-cb25-44da-a1fe-384097c92bdb');\n",
              "        const dataTable =\n",
              "          await google.colab.kernel.invokeFunction('convertToInteractive',\n",
              "                                                    [key], {});\n",
              "        if (!dataTable) return;\n",
              "\n",
              "        const docLinkHtml = 'Like what you see? Visit the ' +\n",
              "          '<a target=\"_blank\" href=https://colab.research.google.com/notebooks/data_table.ipynb>data table notebook</a>'\n",
              "          + ' to learn more about interactive tables.';\n",
              "        element.innerHTML = '';\n",
              "        dataTable['output_type'] = 'display_data';\n",
              "        await google.colab.output.renderOutput(dataTable, element);\n",
              "        const docLink = document.createElement('div');\n",
              "        docLink.innerHTML = docLinkHtml;\n",
              "        element.appendChild(docLink);\n",
              "      }\n",
              "    </script>\n",
              "  </div>\n",
              "\n",
              "\n",
              "<div id=\"df-8ffe2ef6-e480-4dd8-94b3-9969ebcd2be1\">\n",
              "  <button class=\"colab-df-quickchart\" onclick=\"quickchart('df-8ffe2ef6-e480-4dd8-94b3-9969ebcd2be1')\"\n",
              "            title=\"Suggest charts.\"\n",
              "            style=\"display:none;\">\n",
              "\n",
              "<svg xmlns=\"http://www.w3.org/2000/svg\" height=\"24px\"viewBox=\"0 0 24 24\"\n",
              "     width=\"24px\">\n",
              "    <g>\n",
              "        <path d=\"M19 3H5c-1.1 0-2 .9-2 2v14c0 1.1.9 2 2 2h14c1.1 0 2-.9 2-2V5c0-1.1-.9-2-2-2zM9 17H7v-7h2v7zm4 0h-2V7h2v10zm4 0h-2v-4h2v4z\"/>\n",
              "    </g>\n",
              "</svg>\n",
              "  </button>\n",
              "\n",
              "<style>\n",
              "  .colab-df-quickchart {\n",
              "      --bg-color: #E8F0FE;\n",
              "      --fill-color: #1967D2;\n",
              "      --hover-bg-color: #E2EBFA;\n",
              "      --hover-fill-color: #174EA6;\n",
              "      --disabled-fill-color: #AAA;\n",
              "      --disabled-bg-color: #DDD;\n",
              "  }\n",
              "\n",
              "  [theme=dark] .colab-df-quickchart {\n",
              "      --bg-color: #3B4455;\n",
              "      --fill-color: #D2E3FC;\n",
              "      --hover-bg-color: #434B5C;\n",
              "      --hover-fill-color: #FFFFFF;\n",
              "      --disabled-bg-color: #3B4455;\n",
              "      --disabled-fill-color: #666;\n",
              "  }\n",
              "\n",
              "  .colab-df-quickchart {\n",
              "    background-color: var(--bg-color);\n",
              "    border: none;\n",
              "    border-radius: 50%;\n",
              "    cursor: pointer;\n",
              "    display: none;\n",
              "    fill: var(--fill-color);\n",
              "    height: 32px;\n",
              "    padding: 0;\n",
              "    width: 32px;\n",
              "  }\n",
              "\n",
              "  .colab-df-quickchart:hover {\n",
              "    background-color: var(--hover-bg-color);\n",
              "    box-shadow: 0 1px 2px rgba(60, 64, 67, 0.3), 0 1px 3px 1px rgba(60, 64, 67, 0.15);\n",
              "    fill: var(--button-hover-fill-color);\n",
              "  }\n",
              "\n",
              "  .colab-df-quickchart-complete:disabled,\n",
              "  .colab-df-quickchart-complete:disabled:hover {\n",
              "    background-color: var(--disabled-bg-color);\n",
              "    fill: var(--disabled-fill-color);\n",
              "    box-shadow: none;\n",
              "  }\n",
              "\n",
              "  .colab-df-spinner {\n",
              "    border: 2px solid var(--fill-color);\n",
              "    border-color: transparent;\n",
              "    border-bottom-color: var(--fill-color);\n",
              "    animation:\n",
              "      spin 1s steps(1) infinite;\n",
              "  }\n",
              "\n",
              "  @keyframes spin {\n",
              "    0% {\n",
              "      border-color: transparent;\n",
              "      border-bottom-color: var(--fill-color);\n",
              "      border-left-color: var(--fill-color);\n",
              "    }\n",
              "    20% {\n",
              "      border-color: transparent;\n",
              "      border-left-color: var(--fill-color);\n",
              "      border-top-color: var(--fill-color);\n",
              "    }\n",
              "    30% {\n",
              "      border-color: transparent;\n",
              "      border-left-color: var(--fill-color);\n",
              "      border-top-color: var(--fill-color);\n",
              "      border-right-color: var(--fill-color);\n",
              "    }\n",
              "    40% {\n",
              "      border-color: transparent;\n",
              "      border-right-color: var(--fill-color);\n",
              "      border-top-color: var(--fill-color);\n",
              "    }\n",
              "    60% {\n",
              "      border-color: transparent;\n",
              "      border-right-color: var(--fill-color);\n",
              "    }\n",
              "    80% {\n",
              "      border-color: transparent;\n",
              "      border-right-color: var(--fill-color);\n",
              "      border-bottom-color: var(--fill-color);\n",
              "    }\n",
              "    90% {\n",
              "      border-color: transparent;\n",
              "      border-bottom-color: var(--fill-color);\n",
              "    }\n",
              "  }\n",
              "</style>\n",
              "\n",
              "  <script>\n",
              "    async function quickchart(key) {\n",
              "      const quickchartButtonEl =\n",
              "        document.querySelector('#' + key + ' button');\n",
              "      quickchartButtonEl.disabled = true;  // To prevent multiple clicks.\n",
              "      quickchartButtonEl.classList.add('colab-df-spinner');\n",
              "      try {\n",
              "        const charts = await google.colab.kernel.invokeFunction(\n",
              "            'suggestCharts', [key], {});\n",
              "      } catch (error) {\n",
              "        console.error('Error during call to suggestCharts:', error);\n",
              "      }\n",
              "      quickchartButtonEl.classList.remove('colab-df-spinner');\n",
              "      quickchartButtonEl.classList.add('colab-df-quickchart-complete');\n",
              "    }\n",
              "    (() => {\n",
              "      let quickchartButtonEl =\n",
              "        document.querySelector('#df-8ffe2ef6-e480-4dd8-94b3-9969ebcd2be1 button');\n",
              "      quickchartButtonEl.style.display =\n",
              "        google.colab.kernel.accessAllowed ? 'block' : 'none';\n",
              "    })();\n",
              "  </script>\n",
              "</div>\n",
              "    </div>\n",
              "  </div>\n"
            ]
          },
          "metadata": {},
          "execution_count": 5
        }
      ]
    },
    {
      "cell_type": "code",
      "source": [
        "x = data.iloc[:,1:]\n",
        "y = data[\"A\"]"
      ],
      "metadata": {
        "id": "dRWIrBcT_W9n"
      },
      "execution_count": 30,
      "outputs": []
    },
    {
      "cell_type": "code",
      "source": [
        "from sklearn.model_selection import train_test_split\n",
        "X_train, X_test, y_train, y_test = train_test_split(x, y, test_size=0.2, random_state=42)"
      ],
      "metadata": {
        "id": "A8Br4Xgt_XDT"
      },
      "execution_count": 31,
      "outputs": []
    },
    {
      "cell_type": "code",
      "source": [
        "from sklearn.preprocessing import StandardScaler\n",
        "scaler=StandardScaler()\n",
        "X_trainscaled=scaler.fit_transform(X_train)\n",
        "X_testscaled=scaler.transform(X_test)"
      ],
      "metadata": {
        "id": "dcUuPnE8AA-Q"
      },
      "execution_count": 32,
      "outputs": []
    },
    {
      "cell_type": "code",
      "source": [
        "from tensorflow.keras.utils import to_categorical\n",
        "y_train_ohe = to_categorical(y_train)\n",
        "y_test_ohe = to_categorical(y_test)"
      ],
      "metadata": {
        "id": "-vOBIk81ABAn"
      },
      "execution_count": 33,
      "outputs": []
    },
    {
      "cell_type": "code",
      "source": [
        "print(X_trainscaled.shape)\n",
        "print(X_testscaled.shape)\n",
        "print(y_train_ohe.shape)\n",
        "print(y_test_ohe.shape)"
      ],
      "metadata": {
        "colab": {
          "base_uri": "https://localhost:8080/"
        },
        "id": "hMJkoGtMABIY",
        "outputId": "7cab346d-4ed7-4e76-aa68-575357cfbd6a"
      },
      "execution_count": 34,
      "outputs": [
        {
          "output_type": "stream",
          "name": "stdout",
          "text": [
            "(142, 13)\n",
            "(36, 13)\n",
            "(142, 4)\n",
            "(36, 4)\n"
          ]
        }
      ]
    },
    {
      "cell_type": "code",
      "source": [
        "y_train_ohe.shape"
      ],
      "metadata": {
        "colab": {
          "base_uri": "https://localhost:8080/"
        },
        "id": "faGf5y5ZABKH",
        "outputId": "a17fed8d-eb2e-4eca-e0ed-e236409917c9"
      },
      "execution_count": 12,
      "outputs": [
        {
          "output_type": "execute_result",
          "data": {
            "text/plain": [
              "(142, 4)"
            ]
          },
          "metadata": {},
          "execution_count": 12
        }
      ]
    },
    {
      "cell_type": "code",
      "source": [
        "from tensorflow.keras.models import Sequential\n",
        "from tensorflow.keras .layers import Dense,Input,Dropout\n",
        "from tensorflow.keras.optimizers import Adam"
      ],
      "metadata": {
        "id": "JeKABpQIAiKD"
      },
      "execution_count": 35,
      "outputs": []
    },
    {
      "cell_type": "code",
      "source": [
        "model = Sequential()\n",
        "model.add(Input(13))\n",
        "model.add(Dense(units=13,activation=\"relu\"))\n",
        "model.add(Dense(units=13,activation=\"relu\"))\n",
        "model.add(Dense(units=13,activation=\"relu\"))\n",
        "model.add(Dropout(0.1))\n",
        "model.add(Dense(4,activation=\"softmax\"))"
      ],
      "metadata": {
        "id": "RmwgT8VEABLu"
      },
      "execution_count": 36,
      "outputs": []
    },
    {
      "cell_type": "code",
      "source": [
        "model.compile(optimizer=tf.keras.optimizers.Adam(),\n",
        "                  loss=\"categorical_crossentropy\",\n",
        "                  metrics=[\"accuracy\"])"
      ],
      "metadata": {
        "id": "x2wYJKylABOv"
      },
      "execution_count": 37,
      "outputs": []
    },
    {
      "cell_type": "code",
      "source": [
        "model.fit(x=X_trainscaled, y= y_train_ohe,epochs=100, validation_data=(X_trainscaled, y_train_ohe))"
      ],
      "metadata": {
        "colab": {
          "base_uri": "https://localhost:8080/"
        },
        "id": "wbB2htmvAuH7",
        "outputId": "b3c8b828-9dbc-4aa6-f624-4fa70a01f9b4"
      },
      "execution_count": 39,
      "outputs": [
        {
          "output_type": "stream",
          "name": "stdout",
          "text": [
            "Epoch 1/100\n",
            "5/5 [==============================] - 0s 22ms/step - loss: 0.0171 - accuracy: 0.9930 - val_loss: 0.0013 - val_accuracy: 1.0000\n",
            "Epoch 2/100\n",
            "5/5 [==============================] - 0s 15ms/step - loss: 0.0031 - accuracy: 1.0000 - val_loss: 0.0013 - val_accuracy: 1.0000\n",
            "Epoch 3/100\n",
            "5/5 [==============================] - 0s 14ms/step - loss: 0.0046 - accuracy: 1.0000 - val_loss: 0.0013 - val_accuracy: 1.0000\n",
            "Epoch 4/100\n",
            "5/5 [==============================] - 0s 14ms/step - loss: 0.0066 - accuracy: 1.0000 - val_loss: 0.0012 - val_accuracy: 1.0000\n",
            "Epoch 5/100\n",
            "5/5 [==============================] - 0s 15ms/step - loss: 0.0149 - accuracy: 0.9930 - val_loss: 0.0012 - val_accuracy: 1.0000\n",
            "Epoch 6/100\n",
            "5/5 [==============================] - 0s 15ms/step - loss: 0.0022 - accuracy: 1.0000 - val_loss: 0.0011 - val_accuracy: 1.0000\n",
            "Epoch 7/100\n",
            "5/5 [==============================] - 0s 15ms/step - loss: 0.0031 - accuracy: 1.0000 - val_loss: 0.0011 - val_accuracy: 1.0000\n",
            "Epoch 8/100\n",
            "5/5 [==============================] - 0s 15ms/step - loss: 0.0111 - accuracy: 1.0000 - val_loss: 0.0011 - val_accuracy: 1.0000\n",
            "Epoch 9/100\n",
            "5/5 [==============================] - 0s 15ms/step - loss: 0.0046 - accuracy: 1.0000 - val_loss: 0.0011 - val_accuracy: 1.0000\n",
            "Epoch 10/100\n",
            "5/5 [==============================] - 0s 14ms/step - loss: 0.0128 - accuracy: 1.0000 - val_loss: 0.0010 - val_accuracy: 1.0000\n",
            "Epoch 11/100\n",
            "5/5 [==============================] - 0s 12ms/step - loss: 0.0035 - accuracy: 1.0000 - val_loss: 0.0010 - val_accuracy: 1.0000\n",
            "Epoch 12/100\n",
            "5/5 [==============================] - 0s 15ms/step - loss: 0.0124 - accuracy: 1.0000 - val_loss: 9.9291e-04 - val_accuracy: 1.0000\n",
            "Epoch 13/100\n",
            "5/5 [==============================] - 0s 12ms/step - loss: 0.0091 - accuracy: 1.0000 - val_loss: 9.7418e-04 - val_accuracy: 1.0000\n",
            "Epoch 14/100\n",
            "5/5 [==============================] - 0s 11ms/step - loss: 0.0062 - accuracy: 1.0000 - val_loss: 9.5440e-04 - val_accuracy: 1.0000\n",
            "Epoch 15/100\n",
            "5/5 [==============================] - 0s 11ms/step - loss: 0.0033 - accuracy: 1.0000 - val_loss: 9.3804e-04 - val_accuracy: 1.0000\n",
            "Epoch 16/100\n",
            "5/5 [==============================] - 0s 18ms/step - loss: 0.0029 - accuracy: 1.0000 - val_loss: 9.2690e-04 - val_accuracy: 1.0000\n",
            "Epoch 17/100\n",
            "5/5 [==============================] - 0s 12ms/step - loss: 0.0118 - accuracy: 1.0000 - val_loss: 9.1388e-04 - val_accuracy: 1.0000\n",
            "Epoch 18/100\n",
            "5/5 [==============================] - 0s 12ms/step - loss: 0.0232 - accuracy: 0.9930 - val_loss: 8.9823e-04 - val_accuracy: 1.0000\n",
            "Epoch 19/100\n",
            "5/5 [==============================] - 0s 13ms/step - loss: 0.0060 - accuracy: 1.0000 - val_loss: 9.0512e-04 - val_accuracy: 1.0000\n",
            "Epoch 20/100\n",
            "5/5 [==============================] - 0s 15ms/step - loss: 0.0189 - accuracy: 0.9930 - val_loss: 8.9990e-04 - val_accuracy: 1.0000\n",
            "Epoch 21/100\n",
            "5/5 [==============================] - 0s 14ms/step - loss: 0.0032 - accuracy: 1.0000 - val_loss: 8.8175e-04 - val_accuracy: 1.0000\n",
            "Epoch 22/100\n",
            "5/5 [==============================] - 0s 14ms/step - loss: 0.0033 - accuracy: 1.0000 - val_loss: 8.5837e-04 - val_accuracy: 1.0000\n",
            "Epoch 23/100\n",
            "5/5 [==============================] - 0s 14ms/step - loss: 0.0096 - accuracy: 1.0000 - val_loss: 8.4026e-04 - val_accuracy: 1.0000\n",
            "Epoch 24/100\n",
            "5/5 [==============================] - 0s 12ms/step - loss: 0.0046 - accuracy: 1.0000 - val_loss: 8.3120e-04 - val_accuracy: 1.0000\n",
            "Epoch 25/100\n",
            "5/5 [==============================] - 0s 15ms/step - loss: 0.0099 - accuracy: 1.0000 - val_loss: 8.2009e-04 - val_accuracy: 1.0000\n",
            "Epoch 26/100\n",
            "5/5 [==============================] - 0s 11ms/step - loss: 0.0053 - accuracy: 1.0000 - val_loss: 8.1455e-04 - val_accuracy: 1.0000\n",
            "Epoch 27/100\n",
            "5/5 [==============================] - 0s 11ms/step - loss: 0.0157 - accuracy: 1.0000 - val_loss: 8.2611e-04 - val_accuracy: 1.0000\n",
            "Epoch 28/100\n",
            "5/5 [==============================] - 0s 11ms/step - loss: 0.0028 - accuracy: 1.0000 - val_loss: 8.3367e-04 - val_accuracy: 1.0000\n",
            "Epoch 29/100\n",
            "5/5 [==============================] - 0s 14ms/step - loss: 0.0118 - accuracy: 1.0000 - val_loss: 8.2297e-04 - val_accuracy: 1.0000\n",
            "Epoch 30/100\n",
            "5/5 [==============================] - 0s 11ms/step - loss: 0.0120 - accuracy: 1.0000 - val_loss: 7.8576e-04 - val_accuracy: 1.0000\n",
            "Epoch 31/100\n",
            "5/5 [==============================] - 0s 11ms/step - loss: 0.0148 - accuracy: 0.9930 - val_loss: 7.4944e-04 - val_accuracy: 1.0000\n",
            "Epoch 32/100\n",
            "5/5 [==============================] - 0s 15ms/step - loss: 0.0062 - accuracy: 1.0000 - val_loss: 7.5372e-04 - val_accuracy: 1.0000\n",
            "Epoch 33/100\n",
            "5/5 [==============================] - 0s 11ms/step - loss: 0.0017 - accuracy: 1.0000 - val_loss: 7.6162e-04 - val_accuracy: 1.0000\n",
            "Epoch 34/100\n",
            "5/5 [==============================] - 0s 14ms/step - loss: 0.0121 - accuracy: 1.0000 - val_loss: 7.3880e-04 - val_accuracy: 1.0000\n",
            "Epoch 35/100\n",
            "5/5 [==============================] - 0s 14ms/step - loss: 0.0068 - accuracy: 1.0000 - val_loss: 7.0779e-04 - val_accuracy: 1.0000\n",
            "Epoch 36/100\n",
            "5/5 [==============================] - 0s 10ms/step - loss: 0.0036 - accuracy: 1.0000 - val_loss: 6.8938e-04 - val_accuracy: 1.0000\n",
            "Epoch 37/100\n",
            "5/5 [==============================] - 0s 11ms/step - loss: 0.0100 - accuracy: 1.0000 - val_loss: 6.6689e-04 - val_accuracy: 1.0000\n",
            "Epoch 38/100\n",
            "5/5 [==============================] - 0s 15ms/step - loss: 0.0087 - accuracy: 1.0000 - val_loss: 6.5102e-04 - val_accuracy: 1.0000\n",
            "Epoch 39/100\n",
            "5/5 [==============================] - 0s 16ms/step - loss: 0.0189 - accuracy: 1.0000 - val_loss: 6.3679e-04 - val_accuracy: 1.0000\n",
            "Epoch 40/100\n",
            "5/5 [==============================] - 0s 14ms/step - loss: 0.0024 - accuracy: 1.0000 - val_loss: 6.2499e-04 - val_accuracy: 1.0000\n",
            "Epoch 41/100\n",
            "5/5 [==============================] - 0s 15ms/step - loss: 0.0022 - accuracy: 1.0000 - val_loss: 6.1538e-04 - val_accuracy: 1.0000\n",
            "Epoch 42/100\n",
            "5/5 [==============================] - 0s 14ms/step - loss: 0.0035 - accuracy: 1.0000 - val_loss: 6.0367e-04 - val_accuracy: 1.0000\n",
            "Epoch 43/100\n",
            "5/5 [==============================] - 0s 15ms/step - loss: 0.0021 - accuracy: 1.0000 - val_loss: 5.9258e-04 - val_accuracy: 1.0000\n",
            "Epoch 44/100\n",
            "5/5 [==============================] - 0s 14ms/step - loss: 0.0023 - accuracy: 1.0000 - val_loss: 5.8104e-04 - val_accuracy: 1.0000\n",
            "Epoch 45/100\n",
            "5/5 [==============================] - 0s 14ms/step - loss: 0.0127 - accuracy: 0.9930 - val_loss: 5.6488e-04 - val_accuracy: 1.0000\n",
            "Epoch 46/100\n",
            "5/5 [==============================] - 0s 14ms/step - loss: 0.0037 - accuracy: 1.0000 - val_loss: 5.5640e-04 - val_accuracy: 1.0000\n",
            "Epoch 47/100\n",
            "5/5 [==============================] - 0s 14ms/step - loss: 0.0097 - accuracy: 0.9930 - val_loss: 5.5422e-04 - val_accuracy: 1.0000\n",
            "Epoch 48/100\n",
            "5/5 [==============================] - 0s 14ms/step - loss: 0.0092 - accuracy: 1.0000 - val_loss: 5.4852e-04 - val_accuracy: 1.0000\n",
            "Epoch 49/100\n",
            "5/5 [==============================] - 0s 11ms/step - loss: 0.0019 - accuracy: 1.0000 - val_loss: 5.4125e-04 - val_accuracy: 1.0000\n",
            "Epoch 50/100\n",
            "5/5 [==============================] - 0s 11ms/step - loss: 0.0031 - accuracy: 1.0000 - val_loss: 5.3906e-04 - val_accuracy: 1.0000\n",
            "Epoch 51/100\n",
            "5/5 [==============================] - 0s 12ms/step - loss: 0.0153 - accuracy: 1.0000 - val_loss: 5.3760e-04 - val_accuracy: 1.0000\n",
            "Epoch 52/100\n",
            "5/5 [==============================] - 0s 12ms/step - loss: 0.0025 - accuracy: 1.0000 - val_loss: 5.3140e-04 - val_accuracy: 1.0000\n",
            "Epoch 53/100\n",
            "5/5 [==============================] - 0s 13ms/step - loss: 0.0013 - accuracy: 1.0000 - val_loss: 5.2067e-04 - val_accuracy: 1.0000\n",
            "Epoch 54/100\n",
            "5/5 [==============================] - 0s 14ms/step - loss: 0.0010 - accuracy: 1.0000 - val_loss: 5.0986e-04 - val_accuracy: 1.0000\n",
            "Epoch 55/100\n",
            "5/5 [==============================] - 0s 16ms/step - loss: 0.0074 - accuracy: 1.0000 - val_loss: 4.9909e-04 - val_accuracy: 1.0000\n",
            "Epoch 56/100\n",
            "5/5 [==============================] - 0s 14ms/step - loss: 0.0045 - accuracy: 1.0000 - val_loss: 4.8492e-04 - val_accuracy: 1.0000\n",
            "Epoch 57/100\n",
            "5/5 [==============================] - 0s 19ms/step - loss: 0.0013 - accuracy: 1.0000 - val_loss: 4.7452e-04 - val_accuracy: 1.0000\n",
            "Epoch 58/100\n",
            "5/5 [==============================] - 0s 17ms/step - loss: 0.0020 - accuracy: 1.0000 - val_loss: 4.6520e-04 - val_accuracy: 1.0000\n",
            "Epoch 59/100\n",
            "5/5 [==============================] - 0s 21ms/step - loss: 0.0145 - accuracy: 1.0000 - val_loss: 4.5609e-04 - val_accuracy: 1.0000\n",
            "Epoch 60/100\n",
            "5/5 [==============================] - 0s 20ms/step - loss: 0.0167 - accuracy: 1.0000 - val_loss: 4.4297e-04 - val_accuracy: 1.0000\n",
            "Epoch 61/100\n",
            "5/5 [==============================] - 0s 18ms/step - loss: 0.0024 - accuracy: 1.0000 - val_loss: 4.3123e-04 - val_accuracy: 1.0000\n",
            "Epoch 62/100\n",
            "5/5 [==============================] - 0s 18ms/step - loss: 0.0082 - accuracy: 1.0000 - val_loss: 4.2401e-04 - val_accuracy: 1.0000\n",
            "Epoch 63/100\n",
            "5/5 [==============================] - 0s 16ms/step - loss: 0.0035 - accuracy: 1.0000 - val_loss: 4.1855e-04 - val_accuracy: 1.0000\n",
            "Epoch 64/100\n",
            "5/5 [==============================] - 0s 19ms/step - loss: 0.0018 - accuracy: 1.0000 - val_loss: 4.1592e-04 - val_accuracy: 1.0000\n",
            "Epoch 65/100\n",
            "5/5 [==============================] - 0s 18ms/step - loss: 0.0014 - accuracy: 1.0000 - val_loss: 4.1391e-04 - val_accuracy: 1.0000\n",
            "Epoch 66/100\n",
            "5/5 [==============================] - 0s 18ms/step - loss: 0.0015 - accuracy: 1.0000 - val_loss: 4.1151e-04 - val_accuracy: 1.0000\n",
            "Epoch 67/100\n",
            "5/5 [==============================] - 0s 24ms/step - loss: 0.0010 - accuracy: 1.0000 - val_loss: 4.0779e-04 - val_accuracy: 1.0000\n",
            "Epoch 68/100\n",
            "5/5 [==============================] - 0s 18ms/step - loss: 0.0215 - accuracy: 0.9930 - val_loss: 3.9752e-04 - val_accuracy: 1.0000\n",
            "Epoch 69/100\n",
            "5/5 [==============================] - 0s 16ms/step - loss: 0.0012 - accuracy: 1.0000 - val_loss: 3.8782e-04 - val_accuracy: 1.0000\n",
            "Epoch 70/100\n",
            "5/5 [==============================] - 0s 16ms/step - loss: 0.0019 - accuracy: 1.0000 - val_loss: 3.8174e-04 - val_accuracy: 1.0000\n",
            "Epoch 71/100\n",
            "5/5 [==============================] - 0s 17ms/step - loss: 0.0018 - accuracy: 1.0000 - val_loss: 3.7598e-04 - val_accuracy: 1.0000\n",
            "Epoch 72/100\n",
            "5/5 [==============================] - 0s 21ms/step - loss: 0.0168 - accuracy: 0.9930 - val_loss: 3.7203e-04 - val_accuracy: 1.0000\n",
            "Epoch 73/100\n",
            "5/5 [==============================] - 0s 15ms/step - loss: 0.0101 - accuracy: 1.0000 - val_loss: 3.6679e-04 - val_accuracy: 1.0000\n",
            "Epoch 74/100\n",
            "5/5 [==============================] - 0s 15ms/step - loss: 0.0069 - accuracy: 1.0000 - val_loss: 3.6182e-04 - val_accuracy: 1.0000\n",
            "Epoch 75/100\n",
            "5/5 [==============================] - 0s 19ms/step - loss: 0.0044 - accuracy: 1.0000 - val_loss: 3.5658e-04 - val_accuracy: 1.0000\n",
            "Epoch 76/100\n",
            "5/5 [==============================] - 0s 20ms/step - loss: 0.0092 - accuracy: 1.0000 - val_loss: 3.5079e-04 - val_accuracy: 1.0000\n",
            "Epoch 77/100\n",
            "5/5 [==============================] - 0s 17ms/step - loss: 0.0021 - accuracy: 1.0000 - val_loss: 3.4434e-04 - val_accuracy: 1.0000\n",
            "Epoch 78/100\n",
            "5/5 [==============================] - 0s 20ms/step - loss: 0.0022 - accuracy: 1.0000 - val_loss: 3.3843e-04 - val_accuracy: 1.0000\n",
            "Epoch 79/100\n",
            "5/5 [==============================] - 0s 24ms/step - loss: 0.0032 - accuracy: 1.0000 - val_loss: 3.3220e-04 - val_accuracy: 1.0000\n",
            "Epoch 80/100\n",
            "5/5 [==============================] - 0s 22ms/step - loss: 0.0105 - accuracy: 0.9930 - val_loss: 3.2877e-04 - val_accuracy: 1.0000\n",
            "Epoch 81/100\n",
            "5/5 [==============================] - 0s 17ms/step - loss: 0.0010 - accuracy: 1.0000 - val_loss: 3.2784e-04 - val_accuracy: 1.0000\n",
            "Epoch 82/100\n",
            "5/5 [==============================] - 0s 18ms/step - loss: 8.4611e-04 - accuracy: 1.0000 - val_loss: 3.2632e-04 - val_accuracy: 1.0000\n",
            "Epoch 83/100\n",
            "5/5 [==============================] - 0s 20ms/step - loss: 8.5687e-04 - accuracy: 1.0000 - val_loss: 3.2449e-04 - val_accuracy: 1.0000\n",
            "Epoch 84/100\n",
            "5/5 [==============================] - 0s 18ms/step - loss: 0.0070 - accuracy: 1.0000 - val_loss: 3.2210e-04 - val_accuracy: 1.0000\n",
            "Epoch 85/100\n",
            "5/5 [==============================] - 0s 20ms/step - loss: 0.0020 - accuracy: 1.0000 - val_loss: 3.1868e-04 - val_accuracy: 1.0000\n",
            "Epoch 86/100\n",
            "5/5 [==============================] - 0s 19ms/step - loss: 0.0017 - accuracy: 1.0000 - val_loss: 3.1500e-04 - val_accuracy: 1.0000\n",
            "Epoch 87/100\n",
            "5/5 [==============================] - 0s 19ms/step - loss: 0.0012 - accuracy: 1.0000 - val_loss: 3.1117e-04 - val_accuracy: 1.0000\n",
            "Epoch 88/100\n",
            "5/5 [==============================] - 0s 20ms/step - loss: 0.0016 - accuracy: 1.0000 - val_loss: 3.0712e-04 - val_accuracy: 1.0000\n",
            "Epoch 89/100\n",
            "5/5 [==============================] - 0s 16ms/step - loss: 0.0034 - accuracy: 1.0000 - val_loss: 3.0385e-04 - val_accuracy: 1.0000\n",
            "Epoch 90/100\n",
            "5/5 [==============================] - 0s 14ms/step - loss: 0.0015 - accuracy: 1.0000 - val_loss: 3.0201e-04 - val_accuracy: 1.0000\n",
            "Epoch 91/100\n",
            "5/5 [==============================] - 0s 18ms/step - loss: 0.0018 - accuracy: 1.0000 - val_loss: 2.9976e-04 - val_accuracy: 1.0000\n",
            "Epoch 92/100\n",
            "5/5 [==============================] - 0s 15ms/step - loss: 0.0112 - accuracy: 1.0000 - val_loss: 2.9582e-04 - val_accuracy: 1.0000\n",
            "Epoch 93/100\n",
            "5/5 [==============================] - 0s 14ms/step - loss: 0.0095 - accuracy: 1.0000 - val_loss: 2.8982e-04 - val_accuracy: 1.0000\n",
            "Epoch 94/100\n",
            "5/5 [==============================] - 0s 11ms/step - loss: 0.0071 - accuracy: 1.0000 - val_loss: 2.8418e-04 - val_accuracy: 1.0000\n",
            "Epoch 95/100\n",
            "5/5 [==============================] - 0s 11ms/step - loss: 0.0061 - accuracy: 1.0000 - val_loss: 2.7942e-04 - val_accuracy: 1.0000\n",
            "Epoch 96/100\n",
            "5/5 [==============================] - 0s 12ms/step - loss: 0.0120 - accuracy: 1.0000 - val_loss: 2.7525e-04 - val_accuracy: 1.0000\n",
            "Epoch 97/100\n",
            "5/5 [==============================] - 0s 11ms/step - loss: 0.0108 - accuracy: 1.0000 - val_loss: 2.7098e-04 - val_accuracy: 1.0000\n",
            "Epoch 98/100\n",
            "5/5 [==============================] - 0s 12ms/step - loss: 0.0016 - accuracy: 1.0000 - val_loss: 2.6793e-04 - val_accuracy: 1.0000\n",
            "Epoch 99/100\n",
            "5/5 [==============================] - 0s 11ms/step - loss: 0.0097 - accuracy: 1.0000 - val_loss: 2.6538e-04 - val_accuracy: 1.0000\n",
            "Epoch 100/100\n",
            "5/5 [==============================] - 0s 15ms/step - loss: 0.0014 - accuracy: 1.0000 - val_loss: 2.6191e-04 - val_accuracy: 1.0000\n"
          ]
        },
        {
          "output_type": "execute_result",
          "data": {
            "text/plain": [
              "<keras.callbacks.History at 0x7ba6b1d274f0>"
            ]
          },
          "metadata": {},
          "execution_count": 39
        }
      ]
    },
    {
      "cell_type": "code",
      "source": [
        "preds = model.predict(X_testscaled)"
      ],
      "metadata": {
        "colab": {
          "base_uri": "https://localhost:8080/"
        },
        "id": "VqWFIRJCBKsC",
        "outputId": "3c7f5299-b377-4488-97b1-00655c098c19"
      },
      "execution_count": 40,
      "outputs": [
        {
          "output_type": "stream",
          "name": "stdout",
          "text": [
            "2/2 [==============================] - 0s 5ms/step\n"
          ]
        }
      ]
    },
    {
      "cell_type": "code",
      "source": [
        "from sklearn.metrics import confusion_matrix, classification_report, r2_score"
      ],
      "metadata": {
        "id": "jkr7j5_GBMFB"
      },
      "execution_count": 23,
      "outputs": []
    },
    {
      "cell_type": "code",
      "source": [
        "import numpy as np\n",
        "pred = np.argmax(preds, axis=1)\n"
      ],
      "metadata": {
        "id": "DHKozVUwBMgC"
      },
      "execution_count": 43,
      "outputs": []
    },
    {
      "cell_type": "code",
      "source": [
        "pred"
      ],
      "metadata": {
        "colab": {
          "base_uri": "https://localhost:8080/"
        },
        "id": "HS-kynREHr4u",
        "outputId": "f1d47a3a-e58d-46a7-f6eb-84e66b48ea0e"
      },
      "execution_count": 44,
      "outputs": [
        {
          "output_type": "execute_result",
          "data": {
            "text/plain": [
              "array([1, 1, 3, 1, 2, 1, 2, 3, 2, 3, 1, 3, 1, 2, 1, 2, 2, 2, 1, 2, 1, 2,\n",
              "       2, 3, 3, 3, 2, 2, 2, 1, 1, 2, 3, 1, 1, 1])"
            ]
          },
          "metadata": {},
          "execution_count": 44
        }
      ]
    },
    {
      "cell_type": "code",
      "source": [
        "import numpy as np\n",
        "rounded_labels=np.argmax(y_test_ohe, axis=1)\n",
        "rounded_labels[1]"
      ],
      "metadata": {
        "colab": {
          "base_uri": "https://localhost:8080/"
        },
        "id": "TljyW_MLJ48D",
        "outputId": "8171fcd7-6e6d-46ca-cba3-526d5e37befe"
      },
      "execution_count": 50,
      "outputs": [
        {
          "output_type": "execute_result",
          "data": {
            "text/plain": [
              "1"
            ]
          },
          "metadata": {},
          "execution_count": 50
        }
      ]
    },
    {
      "cell_type": "code",
      "source": [
        "rounded_labels"
      ],
      "metadata": {
        "colab": {
          "base_uri": "https://localhost:8080/"
        },
        "id": "QzJFuJ7oKDrF",
        "outputId": "d289166d-81ca-43c2-9916-4cc3a6a5f27d"
      },
      "execution_count": 52,
      "outputs": [
        {
          "output_type": "execute_result",
          "data": {
            "text/plain": [
              "array([1, 1, 3, 1, 2, 1, 2, 3, 2, 3, 1, 3, 1, 2, 1, 2, 2, 2, 1, 2, 1, 2,\n",
              "       2, 3, 3, 3, 2, 2, 2, 1, 1, 2, 3, 1, 1, 1])"
            ]
          },
          "metadata": {},
          "execution_count": 52
        }
      ]
    },
    {
      "cell_type": "code",
      "source": [
        "print (confusion_matrix(rounded_labels, pred))"
      ],
      "metadata": {
        "colab": {
          "base_uri": "https://localhost:8080/"
        },
        "id": "-a9CnFkpHvSk",
        "outputId": "5c3bf135-a2e9-482b-88eb-9c7592cadcd3"
      },
      "execution_count": 53,
      "outputs": [
        {
          "output_type": "stream",
          "name": "stdout",
          "text": [
            "[[14  0  0]\n",
            " [ 0 14  0]\n",
            " [ 0  0  8]]\n"
          ]
        }
      ]
    }
  ]
}